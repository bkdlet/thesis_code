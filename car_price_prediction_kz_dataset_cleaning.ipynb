{
 "cells": [
  {
   "cell_type": "markdown",
   "id": "04612e62",
   "metadata": {
    "id": "04612e62",
    "papermill": {
     "duration": 0.039951,
     "end_time": "2022-04-21T06:37:35.437264",
     "exception": false,
     "start_time": "2022-04-21T06:37:35.397313",
     "status": "completed"
    },
    "tags": []
   },
   "source": [
    "**Attribute Information:**\n",
    "\n",
    "1. id\n",
    "2. model_f5\n",
    "3. title_f1\t\n",
    "4. price_f9\t\n",
    "5. city_f4\t\n",
    "6. model_spec_f6\t\n",
    "7. body_f7\t\n",
    "8. engine_f8\t\n",
    "9. csv_transmission_f9\t\n",
    "10. drive_f10\t\n",
    "11. steer_f11\t\n",
    "12. paint_f12\t\n",
    "13. customs_f13\t\n",
    "14. run_f15\t\n",
    "15. vin_f18\tdescription_f7\t\n",
    "16. visits_f8\t\n",
    "17. pict_f10\t\n",
    "18. av_prise_f17\n",
    "\n",
    "\n"
   ]
  },
  {
   "cell_type": "code",
   "execution_count": 2,
   "id": "ad41163c",
   "metadata": {
    "execution": {
     "iopub.execute_input": "2022-04-21T06:37:35.515810Z",
     "iopub.status.busy": "2022-04-21T06:37:35.515455Z",
     "iopub.status.idle": "2022-04-21T06:37:36.606048Z",
     "shell.execute_reply": "2022-04-21T06:37:36.604986Z"
    },
    "executionInfo": {
     "elapsed": 1561,
     "status": "ok",
     "timestamp": 1675498561992,
     "user": {
      "displayName": "Сергій Ісаков",
      "userId": "08735013337723685791"
     },
     "user_tz": -120
    },
    "id": "ad41163c",
    "papermill": {
     "duration": 1.132776,
     "end_time": "2022-04-21T06:37:36.608821",
     "exception": false,
     "start_time": "2022-04-21T06:37:35.476045",
     "status": "completed"
    },
    "tags": []
   },
   "outputs": [],
   "source": [
    "import pandas as pd\n",
    "import numpy as np\n",
    "import matplotlib.pyplot as plt\n",
    "%matplotlib inline\n",
    "import seaborn as sns\n",
    "import warnings\n",
    "warnings.filterwarnings('ignore')\n",
    "from tqdm import tqdm\n",
    "import random\n",
    "import glob\n",
    "random.seed(42)\n",
    "\n",
    "tqdm.pandas()"
   ]
  },
  {
   "cell_type": "code",
   "execution_count": 3,
   "id": "42e4f857",
   "metadata": {
    "colab": {
     "base_uri": "https://localhost:8080/"
    },
    "execution": {
     "iopub.execute_input": "2022-04-21T06:37:36.688356Z",
     "iopub.status.busy": "2022-04-21T06:37:36.688070Z",
     "iopub.status.idle": "2022-04-21T06:37:36.762345Z",
     "shell.execute_reply": "2022-04-21T06:37:36.761373Z"
    },
    "executionInfo": {
     "elapsed": 57901,
     "status": "ok",
     "timestamp": 1675498623778,
     "user": {
      "displayName": "Сергій Ісаков",
      "userId": "08735013337723685791"
     },
     "user_tz": -120
    },
    "id": "42e4f857",
    "outputId": "5ddeb26d-eb3a-4831-e28c-63b45c1df1da",
    "papermill": {
     "duration": 0.116637,
     "end_time": "2022-04-21T06:37:36.764685",
     "exception": false,
     "start_time": "2022-04-21T06:37:36.648048",
     "status": "completed"
    },
    "tags": []
   },
   "outputs": [
    {
     "name": "stdout",
     "output_type": "stream",
     "text": [
      "['C:/Users/NBD/PycharmProjects/pricing_cars/datasets\\\\correlations_data.csv', 'C:/Users/NBD/PycharmProjects/pricing_cars/datasets\\\\df_num_corr.csv', 'C:/Users/NBD/PycharmProjects/pricing_cars/datasets\\\\joint_KZ.csv', 'C:/Users/NBD/PycharmProjects/pricing_cars/datasets\\\\kolesa_avto_legkovi_1k+_2110.csv', 'C:/Users/NBD/PycharmProjects/pricing_cars/datasets\\\\kolesa_avto_legkovi_1k.csv', 'C:/Users/NBD/PycharmProjects/pricing_cars/datasets\\\\kolesa_avto_legkovi_unique_1.csv', 'C:/Users/NBD/PycharmProjects/pricing_cars/datasets\\\\kolesa_avto_legkovi_unique_2.csv', 'C:/Users/NBD/PycharmProjects/pricing_cars/datasets\\\\kolesa_unique_saved_0.csv', 'C:/Users/NBD/PycharmProjects/pricing_cars/datasets\\\\num_KZ_last.csv']\n"
     ]
    }
   ],
   "source": [
    "# Connect to the Google Drive\n",
    "# from google.colab import drive\n",
    "# drive.mount('/content/drive')\n",
    "# KZ dataset\n",
    "# root = \"/home/nbdlet/PycharmProjects/cars_valuation\"\n",
    "# root = r\"C:\\Users\\NBD\\PycharmProjects\\pricing_cars\"\n",
    "root = r\"C:/Users/NBD/PycharmProjects/pricing_cars\"\n",
    "\n",
    "\n",
    "df_files = sorted(glob.glob(root + \"/datasets/*.csv\"))\n",
    "\n",
    "print(df_files)\n",
    "# print(root)\n",
    "\n",
    "# df=pd.concat(map(pd.read_csv, df_files), ignore_index=True)"
   ]
  },
  {
   "cell_type": "code",
   "execution_count": 4,
   "id": "inAI52nwKjBC",
   "metadata": {
    "colab": {
     "base_uri": "https://localhost:8080/",
     "height": 530
    },
    "executionInfo": {
     "elapsed": 4680,
     "status": "ok",
     "timestamp": 1675498653036,
     "user": {
      "displayName": "Сергій Ісаков",
      "userId": "08735013337723685791"
     },
     "user_tz": -120
    },
    "id": "inAI52nwKjBC",
    "outputId": "e8b5f572-b48d-4110-cff4-fbb485aa3b1a"
   },
   "outputs": [],
   "source": [
    "df_name = 'kolesa_avto_legkovi_unique_1.csv'#, 'kolesa_avto_legkovi_1k.csv', 'kolesa_avto_legkovi_1k_2.csv'\n",
    "df = pd.read_csv(root + '/datasets/' + df_name)\n",
    "# Shuffle the dataset\n",
    "# df = df.sample(frac=1).reset_index(drop=True)\n",
    "\n",
    "# df['0'].describe()\n"
   ]
  },
  {
   "cell_type": "code",
   "execution_count": 5,
   "id": "UGg70s6LbAyS",
   "metadata": {
    "colab": {
     "base_uri": "https://localhost:8080/"
    },
    "executionInfo": {
     "elapsed": 324,
     "status": "ok",
     "timestamp": 1675498662864,
     "user": {
      "displayName": "Сергій Ісаков",
      "userId": "08735013337723685791"
     },
     "user_tz": -120
    },
    "id": "UGg70s6LbAyS",
    "outputId": "2f25f4c9-3655-4210-8cf0-c12724cfa31d"
   },
   "outputs": [
    {
     "name": "stdout",
     "output_type": "stream",
     "text": [
      "kolesa_avto_legkovi_unique_1.csv  shape:  (16263, 19)\n",
      "Number of unique IDs =  13066\n"
     ]
    }
   ],
   "source": [
    "print(df_name, ' shape: ', df.shape)\n",
    "print('Number of unique IDs = ', df.id.nunique())"
   ]
  },
  {
   "cell_type": "code",
   "execution_count": 7,
   "outputs": [
    {
     "data": {
      "text/plain": "          id                 model_f5                           title_f1  \\\n0  148064580  ВАЗ (Lada) 2115 (седан)  ВАЗ (Lada) 2115 (седан)   2007 г.   \n1  147619476           Hyundai Accent           Hyundai Accent   2018 г.   \n2  148064271           Nissan Primera           Nissan Primera   1992 г.   \n3  147715414           Kia Rio X-Line           Kia Rio X-Line   2020 г.   \n4  148064689             Toyota Camry             Toyota Camry   2006 г.   \n\n            price_f9    city_f4                    model_spec_f6  body_f7  \\\n0     650 000\\n    ₸     Актобе          1997 - 2012 1 поколение    седан   \n1   8 700 000\\n    ₸   Павлодар  2017 - н.в. 5 поколение (HC/YC)    седан   \n2   1 400 000\\n    ₸  Караганда        1990 - 1997 P10 (P10/W10)  лифтбек   \n3  10 000 000\\n    ₸     Астана          2017 - 2021 1 поколение  хэтчбек   \n4   6 500 000\\n    ₸     Алматы                 2006 - 2009 XV40    седан   \n\n      engine_f8 csv_transmission_f9        drive_f10 steer_f11  \\\n0  1.5 (бензин)            механика  передний привод     слева   \n1  1.6 (бензин)             автомат  передний привод     слева   \n2  1.6 (бензин)            механика  передний привод     слева   \n3  1.6 (бензин)             автомат  передний привод     слева   \n4  3.5 (бензин)             автомат  передний привод     слева   \n\n         paint_f12 customs_f13     run_f15 vin_f18  \\\n0      серебристый         Нет         NaN     NaN   \n1  черный металлик          Да   30 000 км     NaN   \n2   серый металлик          Да  500 000 км     NaN   \n3   серый металлик          Да   70 000 км     NaN   \n4           черный          Да  289 000 км     NaN   \n\n                                      description_f7  \\\n0  Описание                \\n\\n                  ...   \n1  Описание                \\n\\n                  ...   \n2  тонировка, багажник, велюр, аудиосистема, CD, ...   \n3  тонировка, ветровики, багажник, линзованная оп...   \n4  литые диски, тонировка, ксенон, линзованная оп...   \n\n                                   visits_f8  \\\n0   Объявление посмотрели 62 раз c 29 января   \n1   Объявление посмотрели 28 раз c 29 января   \n2   Объявление посмотрели 24 раз c 29 января   \n3    Объявление посмотрели 9 раз c 29 января   \n4  Объявление посмотрели 116 раз c 29 января   \n\n                                            pict_f10 av_prise_f17  \n0  ['https://photos-kl.kcdn.kz/webp/85/8553cfb8-f...       793875  \n1  ['https://photos-kl.kcdn.kz/webp/80/80fd52c8-7...      8022470  \n2  ['https://photos-kl.kcdn.kz/webp/37/3765877d-0...       620488  \n3  ['https://photos-kl.kcdn.kz/webp/bd/bd469564-8...      9635784  \n4  ['https://photos-kl.kcdn.kz/webp/39/392f28b3-7...      6368444  ",
      "text/html": "<div>\n<style scoped>\n    .dataframe tbody tr th:only-of-type {\n        vertical-align: middle;\n    }\n\n    .dataframe tbody tr th {\n        vertical-align: top;\n    }\n\n    .dataframe thead th {\n        text-align: right;\n    }\n</style>\n<table border=\"1\" class=\"dataframe\">\n  <thead>\n    <tr style=\"text-align: right;\">\n      <th></th>\n      <th>id</th>\n      <th>model_f5</th>\n      <th>title_f1</th>\n      <th>price_f9</th>\n      <th>city_f4</th>\n      <th>model_spec_f6</th>\n      <th>body_f7</th>\n      <th>engine_f8</th>\n      <th>csv_transmission_f9</th>\n      <th>drive_f10</th>\n      <th>steer_f11</th>\n      <th>paint_f12</th>\n      <th>customs_f13</th>\n      <th>run_f15</th>\n      <th>vin_f18</th>\n      <th>description_f7</th>\n      <th>visits_f8</th>\n      <th>pict_f10</th>\n      <th>av_prise_f17</th>\n    </tr>\n  </thead>\n  <tbody>\n    <tr>\n      <th>0</th>\n      <td>148064580</td>\n      <td>ВАЗ (Lada) 2115 (седан)</td>\n      <td>ВАЗ (Lada) 2115 (седан)   2007 г.</td>\n      <td>650 000\\n    ₸</td>\n      <td>Актобе</td>\n      <td>1997 - 2012 1 поколение</td>\n      <td>седан</td>\n      <td>1.5 (бензин)</td>\n      <td>механика</td>\n      <td>передний привод</td>\n      <td>слева</td>\n      <td>серебристый</td>\n      <td>Нет</td>\n      <td>NaN</td>\n      <td>NaN</td>\n      <td>Описание                \\n\\n                  ...</td>\n      <td>Объявление посмотрели 62 раз c 29 января</td>\n      <td>['https://photos-kl.kcdn.kz/webp/85/8553cfb8-f...</td>\n      <td>793875</td>\n    </tr>\n    <tr>\n      <th>1</th>\n      <td>147619476</td>\n      <td>Hyundai Accent</td>\n      <td>Hyundai Accent   2018 г.</td>\n      <td>8 700 000\\n    ₸</td>\n      <td>Павлодар</td>\n      <td>2017 - н.в. 5 поколение (HC/YC)</td>\n      <td>седан</td>\n      <td>1.6 (бензин)</td>\n      <td>автомат</td>\n      <td>передний привод</td>\n      <td>слева</td>\n      <td>черный металлик</td>\n      <td>Да</td>\n      <td>30 000 км</td>\n      <td>NaN</td>\n      <td>Описание                \\n\\n                  ...</td>\n      <td>Объявление посмотрели 28 раз c 29 января</td>\n      <td>['https://photos-kl.kcdn.kz/webp/80/80fd52c8-7...</td>\n      <td>8022470</td>\n    </tr>\n    <tr>\n      <th>2</th>\n      <td>148064271</td>\n      <td>Nissan Primera</td>\n      <td>Nissan Primera   1992 г.</td>\n      <td>1 400 000\\n    ₸</td>\n      <td>Караганда</td>\n      <td>1990 - 1997 P10 (P10/W10)</td>\n      <td>лифтбек</td>\n      <td>1.6 (бензин)</td>\n      <td>механика</td>\n      <td>передний привод</td>\n      <td>слева</td>\n      <td>серый металлик</td>\n      <td>Да</td>\n      <td>500 000 км</td>\n      <td>NaN</td>\n      <td>тонировка, багажник, велюр, аудиосистема, CD, ...</td>\n      <td>Объявление посмотрели 24 раз c 29 января</td>\n      <td>['https://photos-kl.kcdn.kz/webp/37/3765877d-0...</td>\n      <td>620488</td>\n    </tr>\n    <tr>\n      <th>3</th>\n      <td>147715414</td>\n      <td>Kia Rio X-Line</td>\n      <td>Kia Rio X-Line   2020 г.</td>\n      <td>10 000 000\\n    ₸</td>\n      <td>Астана</td>\n      <td>2017 - 2021 1 поколение</td>\n      <td>хэтчбек</td>\n      <td>1.6 (бензин)</td>\n      <td>автомат</td>\n      <td>передний привод</td>\n      <td>слева</td>\n      <td>серый металлик</td>\n      <td>Да</td>\n      <td>70 000 км</td>\n      <td>NaN</td>\n      <td>тонировка, ветровики, багажник, линзованная оп...</td>\n      <td>Объявление посмотрели 9 раз c 29 января</td>\n      <td>['https://photos-kl.kcdn.kz/webp/bd/bd469564-8...</td>\n      <td>9635784</td>\n    </tr>\n    <tr>\n      <th>4</th>\n      <td>148064689</td>\n      <td>Toyota Camry</td>\n      <td>Toyota Camry   2006 г.</td>\n      <td>6 500 000\\n    ₸</td>\n      <td>Алматы</td>\n      <td>2006 - 2009 XV40</td>\n      <td>седан</td>\n      <td>3.5 (бензин)</td>\n      <td>автомат</td>\n      <td>передний привод</td>\n      <td>слева</td>\n      <td>черный</td>\n      <td>Да</td>\n      <td>289 000 км</td>\n      <td>NaN</td>\n      <td>литые диски, тонировка, ксенон, линзованная оп...</td>\n      <td>Объявление посмотрели 116 раз c 29 января</td>\n      <td>['https://photos-kl.kcdn.kz/webp/39/392f28b3-7...</td>\n      <td>6368444</td>\n    </tr>\n  </tbody>\n</table>\n</div>"
     },
     "metadata": {},
     "output_type": "display_data"
    }
   ],
   "source": [
    "from IPython.display import display\n",
    "display(df.head(5))\n",
    "\n"
   ],
   "metadata": {
    "collapsed": false
   }
  },
  {
   "cell_type": "code",
   "execution_count": 21,
   "id": "EP-ifecQYQTL",
   "metadata": {
    "colab": {
     "base_uri": "https://localhost:8080/"
    },
    "executionInfo": {
     "elapsed": 502,
     "status": "ok",
     "timestamp": 1675498666923,
     "user": {
      "displayName": "Сергій Ісаков",
      "userId": "08735013337723685791"
     },
     "user_tz": -120
    },
    "id": "EP-ifecQYQTL",
    "outputId": "b3083a78-0764-4c87-a731-615051675b78"
   },
   "outputs": [
    {
     "name": "stdout",
     "output_type": "stream",
     "text": [
      "16262    False\n",
      "8721     False\n",
      "13321    False\n",
      "13320    False\n",
      "8724     False\n",
      "dtype: bool\n",
      "Number of duplicated IDs =  3197  from  16263\n",
      "kolesa_avto_legkovi_unique_1.csv  new shape:  (13066, 19)\n"
     ]
    }
   ],
   "source": [
    "# Drop duplicated IDs\n",
    "len_dp = sum(df.duplicated(['id']))\n",
    "df_duplicated_id = df.duplicated(['id'], keep='last').sort_values()\n",
    "print(df_duplicated_id.head())\n",
    "if len_dp > 0:\n",
    "    print(\"Number of duplicated IDs = \", len_dp, ' from ', df.shape[0])\n",
    "    df = df[~df.duplicated(['id'], keep='last')]\n",
    "print(df_name, ' new shape: ', df.shape)\n"
   ]
  },
  {
   "cell_type": "code",
   "execution_count": 22,
   "id": "hhulgL5Vp2pA",
   "metadata": {
    "colab": {
     "base_uri": "https://localhost:8080/"
    },
    "executionInfo": {
     "elapsed": 333,
     "status": "ok",
     "timestamp": 1675498671113,
     "user": {
      "displayName": "Сергій Ісаков",
      "userId": "08735013337723685791"
     },
     "user_tz": -120
    },
    "id": "hhulgL5Vp2pA",
    "outputId": "cbd1d293-bd9a-48cb-ffc5-2e7ecbf65699"
   },
   "outputs": [
    {
     "name": "stdout",
     "output_type": "stream",
     "text": [
      "Bad raws dataset shape:  (1, 19)\n",
      "Cleaned  kolesa_avto_legkovi_unique_1.csv  new shape:  (13065, 19)\n"
     ]
    }
   ],
   "source": [
    "# Drop the bad rows like ['id', 'model_f5', 'title_f1', 'price_f9' ...] without data\n",
    "df1 = df.loc[df['id'] == 'id']\n",
    "print('Bad raws dataset shape: ', df1.shape)\n",
    "df_new_cleaned = df.drop(df1.index)\n",
    "print('Cleaned ', df_name, ' new shape: ', df_new_cleaned.shape)"
   ]
  },
  {
   "cell_type": "markdown",
   "id": "R_weZSzZGk0x",
   "metadata": {
    "id": "R_weZSzZGk0x"
   },
   "source": [
    "**Categorical data processing**"
   ]
  },
  {
   "cell_type": "code",
   "execution_count": 50,
   "id": "2bb9251c",
   "metadata": {},
   "outputs": [],
   "source": [
    "#Drop extra columns\n",
    "# df.drop(columns=['Unnamed: 0'], inplace=True)\n",
    "# df.columns"
   ]
  },
  {
   "cell_type": "code",
   "execution_count": 23,
   "id": "p9R8B7qGT3hf",
   "metadata": {
    "colab": {
     "base_uri": "https://localhost:8080/"
    },
    "executionInfo": {
     "elapsed": 334,
     "status": "ok",
     "timestamp": 1675498678049,
     "user": {
      "displayName": "Сергій Ісаков",
      "userId": "08735013337723685791"
     },
     "user_tz": -120
    },
    "id": "p9R8B7qGT3hf",
    "outputId": "2af57180-a58a-4620-9b87-57bfe6241964"
   },
   "outputs": [
    {
     "name": "stdout",
     "output_type": "stream",
     "text": [
      "Index(['id', 'model_f5', 'title_f1', 'price_f9', 'city_f4', 'model_spec_f6',\n",
      "       'body_f7', 'engine_f8', 'csv_transmission_f9', 'drive_f10', 'steer_f11',\n",
      "       'paint_f12', 'customs_f13', 'run_f15', 'vin_f18', 'description_f7',\n",
      "       'visits_f8', 'pict_f10', 'av_prise_f17'],\n",
      "      dtype='object')\n"
     ]
    }
   ],
   "source": [
    "#Categorical columns\n",
    "df = df_new_cleaned\n",
    "categorical = df.dtypes[df.dtypes == \"object\"].index\n",
    "print(categorical)\n",
    "\n",
    "# print(df[categorical].describe())"
   ]
  },
  {
   "cell_type": "code",
   "execution_count": 52,
   "id": "Gtp2JT-lcas3",
   "metadata": {
    "executionInfo": {
     "elapsed": 361,
     "status": "ok",
     "timestamp": 1675498682267,
     "user": {
      "displayName": "Сергій Ісаков",
      "userId": "08735013337723685791"
     },
     "user_tz": -120
    },
    "id": "Gtp2JT-lcas3"
   },
   "outputs": [],
   "source": [
    "df_new = df[['id', 'model_f5', 'city_f4', 'body_f7', 'csv_transmission_f9', 'drive_f10', 'paint_f12']]\n",
    "# err_id=[]\n",
    "# try:\n",
    "#     [np.int32(year.split()[-2]) for year in df.title_f1]\n",
    "# except IndexError:\n",
    "#     err_id.append(df.id)\n"
   ]
  },
  {
   "cell_type": "code",
   "execution_count": 53,
   "id": "3SUA1rFtdBvw",
   "metadata": {
    "colab": {
     "base_uri": "https://localhost:8080/"
    },
    "executionInfo": {
     "elapsed": 505,
     "status": "ok",
     "timestamp": 1675498685564,
     "user": {
      "displayName": "Сергій Ісаков",
      "userId": "08735013337723685791"
     },
     "user_tz": -120
    },
    "id": "3SUA1rFtdBvw",
    "outputId": "f61740fc-d03b-40b1-a42f-1ed447be160e"
   },
   "outputs": [
    {
     "name": "stdout",
     "output_type": "stream",
     "text": [
      "count    108593.000000\n",
      "mean         16.910759\n",
      "std          10.120353\n",
      "min           0.000000\n",
      "25%           9.000000\n",
      "50%          16.000000\n",
      "75%          26.000000\n",
      "max          80.000000\n",
      "Name: year_f1, dtype: float64\n"
     ]
    }
   ],
   "source": [
    "# err_id=[]\n",
    "# try:\n",
    "#     df_new['year_f1'] = [2023 - np.int32(year.split()[-2]) for year in df.title_f1]\n",
    "# except IndexError:\n",
    "#     # err_id.append(df.id)\n",
    "#     pass\n",
    "# df_new['year_f1']\n",
    "# # df_new['year_f1'] = df_new['year_f1'].astype(np.int32)\n",
    "# # print(df_new.year_f1.describe())\n",
    "\n",
    "df_new['year_f1'] = [2023 - np.int32(year.split()[-2]) for year in df.title_f1]\n",
    "df_new['year_f1'] = df_new['year_f1'].astype(np.int32)\n",
    "print(df_new.year_f1.describe())"
   ]
  },
  {
   "cell_type": "code",
   "execution_count": 54,
   "id": "erH2n9RChOmp",
   "metadata": {
    "colab": {
     "base_uri": "https://localhost:8080/"
    },
    "executionInfo": {
     "elapsed": 341,
     "status": "ok",
     "timestamp": 1675498689136,
     "user": {
      "displayName": "Сергій Ісаков",
      "userId": "08735013337723685791"
     },
     "user_tz": -120
    },
    "id": "erH2n9RChOmp",
    "outputId": "c9d9f615-965c-44ee-eb51-95da456b4285"
   },
   "outputs": [
    {
     "name": "stdout",
     "output_type": "stream",
     "text": [
      "count    1.085930e+05\n",
      "mean     6.860995e+06\n",
      "std      1.168053e+07\n",
      "min      1.000000e+04\n",
      "25%      1.550000e+06\n",
      "50%      3.400000e+06\n",
      "75%      7.500000e+06\n",
      "max      4.420000e+08\n",
      "Name: price_f9, dtype: float64\n"
     ]
    }
   ],
   "source": [
    "df_new['price_f9'] = [price.split()[:-1] for price in df.price_f9]#.str.split()][-2] #str(df.title_f1[10]).split()\n",
    "df_new['price_f9'] = [''.join(price) for price in df_new.price_f9]\n",
    "df_new['price_f9'] = df_new['price_f9'].astype(np.float64)\n",
    "print(df_new.price_f9.describe())"
   ]
  },
  {
   "cell_type": "code",
   "execution_count": 55,
   "id": "vPshz0upvvyE",
   "metadata": {
    "colab": {
     "base_uri": "https://localhost:8080/"
    },
    "executionInfo": {
     "elapsed": 398,
     "status": "ok",
     "timestamp": 1675498693300,
     "user": {
      "displayName": "Сергій Ісаков",
      "userId": "08735013337723685791"
     },
     "user_tz": -120
    },
    "id": "vPshz0upvvyE",
    "outputId": "73ba1e2e-a114-492f-f0c9-8d59364907ac"
   },
   "outputs": [
    {
     "name": "stdout",
     "output_type": "stream",
     "text": [
      "count    6.688100e+04\n",
      "mean     1.749640e+05\n",
      "std      1.428249e+05\n",
      "min      1.000000e+00\n",
      "25%      6.500000e+04\n",
      "50%      1.590000e+05\n",
      "75%      2.500000e+05\n",
      "max      3.760699e+06\n",
      "Name: run_f15, dtype: float64\n"
     ]
    }
   ],
   "source": [
    "df_new['run_f15'] = [str(run).replace('км', '').split() for run in df.run_f15]#.str.split()][-2] #str(df.title_f1[10]).split()\n",
    "df_new['run_f15'] = [''.join(price)  for price in df_new.run_f15]\n",
    "df_new['run_f15'] = df_new['run_f15'].astype(np.float64)\n",
    "print(df_new.run_f15.describe())"
   ]
  },
  {
   "cell_type": "code",
   "execution_count": 56,
   "id": "sa0SCX2aj33A",
   "metadata": {
    "colab": {
     "base_uri": "https://localhost:8080/"
    },
    "executionInfo": {
     "elapsed": 474,
     "status": "ok",
     "timestamp": 1675498696720,
     "user": {
      "displayName": "Сергій Ісаков",
      "userId": "08735013337723685791"
     },
     "user_tz": -120
    },
    "id": "sa0SCX2aj33A",
    "outputId": "2273fb78-aa3b-4172-bc22-8bf904921a8d"
   },
   "outputs": [
    {
     "name": "stdout",
     "output_type": "stream",
     "text": [
      "count    108593.000000\n",
      "mean          0.945181\n",
      "std           0.227628\n",
      "min           0.000000\n",
      "25%           1.000000\n",
      "50%           1.000000\n",
      "75%           1.000000\n",
      "max           1.000000\n",
      "Name: steer_left_f11, dtype: float64\n",
      "count    108593.000000\n",
      "mean          0.054819\n",
      "std           0.227628\n",
      "min           0.000000\n",
      "25%           0.000000\n",
      "50%           0.000000\n",
      "75%           0.000000\n",
      "max           1.000000\n",
      "Name: steer_right_f21, dtype: float64\n"
     ]
    }
   ],
   "source": [
    "df_new['steer_left_f11'] = [1 if custom == 'слева' else 0 for custom in df.steer_f11]\n",
    "df_new['steer_right_f21'] = [1 if custom == 'справа' else 0 for custom in df.steer_f11]\n",
    "df_new['steer_left_f11'] = df_new['steer_left_f11'].astype(np.int16)\n",
    "df_new['steer_right_f21'] = df_new['steer_right_f21'].astype(np.int16)\n",
    "print(df_new['steer_left_f11'].describe())\n",
    "print(df_new['steer_right_f21'].describe())\n"
   ]
  },
  {
   "cell_type": "code",
   "execution_count": 57,
   "id": "Tocwf5ZvqjiC",
   "metadata": {
    "colab": {
     "base_uri": "https://localhost:8080/"
    },
    "executionInfo": {
     "elapsed": 336,
     "status": "ok",
     "timestamp": 1675498700727,
     "user": {
      "displayName": "Сергій Ісаков",
      "userId": "08735013337723685791"
     },
     "user_tz": -120
    },
    "id": "Tocwf5ZvqjiC",
    "outputId": "ecc32830-e8c2-4371-e692-055919fcd11e"
   },
   "outputs": [
    {
     "name": "stdout",
     "output_type": "stream",
     "text": [
      "count    108593.000000\n",
      "mean          0.856252\n",
      "std           0.350835\n",
      "min           0.000000\n",
      "25%           1.000000\n",
      "50%           1.000000\n",
      "75%           1.000000\n",
      "max           1.000000\n",
      "Name: cleared_f13, dtype: float64\n",
      "count    108593.000000\n",
      "mean          0.143748\n",
      "std           0.350835\n",
      "min           0.000000\n",
      "25%           0.000000\n",
      "50%           0.000000\n",
      "75%           0.000000\n",
      "max           1.000000\n",
      "Name: not_cleared_f23, dtype: float64\n"
     ]
    }
   ],
   "source": [
    "df_new['cleared_f13'] = [1 if custom == 'Да' else 0 for custom in df.customs_f13]\n",
    "df_new['not_cleared_f23'] = [1 if custom == 'Нет' else 0 for custom in df.customs_f13]\n",
    "df_new['cleared_f13'] = df_new['cleared_f13'].astype(np.int16)\n",
    "df_new['not_cleared_f23'] = df_new['not_cleared_f23'].astype(np.int16)\n",
    "print(df_new['cleared_f13'].describe())\n",
    "print(df_new['not_cleared_f23'].describe())\n"
   ]
  },
  {
   "cell_type": "code",
   "execution_count": 58,
   "id": "LJSt4RYIyjHs",
   "metadata": {
    "colab": {
     "base_uri": "https://localhost:8080/"
    },
    "executionInfo": {
     "elapsed": 336,
     "status": "ok",
     "timestamp": 1675498704691,
     "user": {
      "displayName": "Сергій Ісаков",
      "userId": "08735013337723685791"
     },
     "user_tz": -120
    },
    "id": "LJSt4RYIyjHs",
    "outputId": "2c111654-2f2e-4a49-94a2-d5a8a254ea04"
   },
   "outputs": [
    {
     "name": "stdout",
     "output_type": "stream",
     "text": [
      "count    108153.000000\n",
      "mean          2.222498\n",
      "std           0.843210\n",
      "min           0.100000\n",
      "25%           1.600000\n",
      "50%           2.000000\n",
      "75%           2.500000\n",
      "max           9.000000\n",
      "Name: engine_volume_f8, dtype: float64\n",
      "0    бензин\n",
      "1    бензин\n",
      "2    бензин\n",
      "3    бензин\n",
      "4    бензин\n",
      "5    бензин\n",
      "6    бензин\n",
      "7    бензин\n",
      "8    бензин\n",
      "9    бензин\n",
      "Name: engine_type_f28, dtype: object\n"
     ]
    }
   ],
   "source": [
    "engine = [str(eng).split() for eng in df.engine_f8]\n",
    "df_new['engine_volume_f8'] = [eng[0] for eng in engine]\n",
    "df_new['engine_type_f28'] = [eng[1].replace('(', '').replace(')', '') if len(eng) > 1 else 0 for eng in engine]\n",
    "df_new['engine_volume_f8'] = df_new['engine_volume_f8'].astype(np.float64)\n",
    "print(df_new['engine_volume_f8'].describe())\n",
    "print(df_new['engine_type_f28'].head(10))\n"
   ]
  },
  {
   "cell_type": "code",
   "execution_count": 59,
   "id": "I7Niydsy5KJc",
   "metadata": {
    "colab": {
     "base_uri": "https://localhost:8080/"
    },
    "executionInfo": {
     "elapsed": 617,
     "status": "ok",
     "timestamp": 1675498708966,
     "user": {
      "displayName": "Сергій Ісаков",
      "userId": "08735013337723685791"
     },
     "user_tz": -120
    },
    "id": "I7Niydsy5KJc",
    "outputId": "db1c680f-eb4b-494e-ddd0-f012d0031afc"
   },
   "outputs": [
    {
     "name": "stdout",
     "output_type": "stream",
     "text": [
      "count    108593.000000\n",
      "mean         14.638006\n",
      "std          14.418747\n",
      "min           1.000000\n",
      "25%           2.000000\n",
      "50%          10.000000\n",
      "75%          23.000000\n",
      "max         166.000000\n",
      "Name: options_f7, dtype: float64\n"
     ]
    }
   ],
   "source": [
    "df_new['options_f7'] = [len(str(option).split(',')) for option in df.description_f7]\n",
    "# sss = str(df.description_f7[0]).split(',')\n",
    "df_new['options_f7'] = df_new['options_f7'].astype(np.int32)\n",
    "print(df_new['options_f7'].describe())"
   ]
  },
  {
   "cell_type": "code",
   "execution_count": 60,
   "id": "IAK9M3EQ88aF",
   "metadata": {
    "colab": {
     "base_uri": "https://localhost:8080/"
    },
    "executionInfo": {
     "elapsed": 371,
     "status": "ok",
     "timestamp": 1675498715968,
     "user": {
      "displayName": "Сергій Ісаков",
      "userId": "08735013337723685791"
     },
     "user_tz": -120
    },
    "id": "IAK9M3EQ88aF",
    "outputId": "083228f0-d2b5-4a4b-e77c-e66e40e5881e"
   },
   "outputs": [
    {
     "name": "stdout",
     "output_type": "stream",
     "text": [
      "count    108593.000000\n",
      "mean        613.789572\n",
      "std        2447.423487\n",
      "min           0.000000\n",
      "25%         112.000000\n",
      "50%         240.000000\n",
      "75%         518.000000\n",
      "max      292146.000000\n",
      "Name: visits_f8, dtype: float64\n"
     ]
    }
   ],
   "source": [
    "df_new['visits_f8'] = [str(visit).split()[2] if len(str(visit).split()) > 1 else 0 for visit in df.visits_f8]\n",
    "# sss = str(df.description_f7[0]).split(',')\n",
    "df_new['visits_f8'] = df_new['visits_f8'].astype(np.int32)\n",
    "print(df_new['visits_f8'].describe())"
   ]
  },
  {
   "cell_type": "code",
   "execution_count": 61,
   "id": "laO4Jz1N89TZ",
   "metadata": {
    "executionInfo": {
     "elapsed": 250,
     "status": "ok",
     "timestamp": 1675498733649,
     "user": {
      "displayName": "Сергій Ісаков",
      "userId": "08735013337723685791"
     },
     "user_tz": -120
    },
    "id": "laO4Jz1N89TZ"
   },
   "outputs": [],
   "source": [
    "df_new['av_prise_f17'] = df.av_prise_f17.astype(np.float64)\n"
   ]
  },
  {
   "cell_type": "code",
   "execution_count": 62,
   "id": "WfyEVwsWNaAp",
   "metadata": {
    "colab": {
     "base_uri": "https://localhost:8080/"
    },
    "executionInfo": {
     "elapsed": 254,
     "status": "ok",
     "timestamp": 1675498739993,
     "user": {
      "displayName": "Сергій Ісаков",
      "userId": "08735013337723685791"
     },
     "user_tz": -120
    },
    "id": "WfyEVwsWNaAp",
    "outputId": "7b7b2a2f-b7da-4c7b-f591-1e9ad52bdf97"
   },
   "outputs": [
    {
     "name": "stdout",
     "output_type": "stream",
     "text": [
      "<class 'pandas.core.frame.DataFrame'>\n",
      "Int64Index: 108593 entries, 0 to 108722\n",
      "Data columns (total 19 columns):\n",
      " #   Column               Non-Null Count   Dtype  \n",
      "---  ------               --------------   -----  \n",
      " 0   id                   108593 non-null  object \n",
      " 1   model_f5             108593 non-null  object \n",
      " 2   city_f4              108593 non-null  object \n",
      " 3   body_f7              108561 non-null  object \n",
      " 4   csv_transmission_f9  108593 non-null  object \n",
      " 5   drive_f10            108559 non-null  object \n",
      " 6   paint_f12            89788 non-null   object \n",
      " 7   year_f1              108593 non-null  int32  \n",
      " 8   price_f9             108593 non-null  float64\n",
      " 9   run_f15              66881 non-null   float64\n",
      " 10  steer_left_f11       108593 non-null  int16  \n",
      " 11  steer_right_f21      108593 non-null  int16  \n",
      " 12  cleared_f13          108593 non-null  int16  \n",
      " 13  not_cleared_f23      108593 non-null  int16  \n",
      " 14  engine_volume_f8     108153 non-null  float64\n",
      " 15  engine_type_f28      108593 non-null  object \n",
      " 16  options_f7           108593 non-null  int32  \n",
      " 17  visits_f8            108593 non-null  int32  \n",
      " 18  av_prise_f17         92523 non-null   float64\n",
      "dtypes: float64(4), int16(4), int32(3), object(8)\n",
      "memory usage: 12.8+ MB\n",
      "None\n"
     ]
    }
   ],
   "source": [
    "print(df_new.info())"
   ]
  },
  {
   "cell_type": "code",
   "execution_count": 63,
   "id": "of7NTN8Qi_w6",
   "metadata": {
    "executionInfo": {
     "elapsed": 977,
     "status": "ok",
     "timestamp": 1675498752949,
     "user": {
      "displayName": "Сергій Ісаков",
      "userId": "08735013337723685791"
     },
     "user_tz": -120
    },
    "id": "of7NTN8Qi_w6"
   },
   "outputs": [],
   "source": [
    "# Save the cleaned dataset\n",
    "# df_name = 'kolesa_avto_legkovi_1k.csv'\n",
    "\n",
    "cleaned_df_name = 'clnd_' + df_name\n",
    "df_new.to_csv(root + '/datasets/cleaned/' + cleaned_df_name, index=False)\n"
   ]
  },
  {
   "cell_type": "code",
   "execution_count": 64,
   "id": "AeqTi55aM2nS",
   "metadata": {
    "id": "AeqTi55aM2nS"
   },
   "outputs": [],
   "source": [
    "#++++++++++++++\n",
    "# Load the cleaned dataset\n",
    "# cleaned_df_name = 'clnd_' + df_name\n",
    "\n",
    "# df_name = 'kolesa_avto_legkovi_1k.csv'\n",
    "# df_new_cleaned = pd.read_csv(root + '/datasets/clnd_dataset_KZ/' + cleaned_df_name)"
   ]
  }
 ],
 "metadata": {
  "colab": {
   "provenance": []
  },
  "gpuClass": "standard",
  "kernelspec": {
   "display_name": "Python 3 (ipykernel)",
   "language": "python",
   "name": "python3"
  },
  "language_info": {
   "codemirror_mode": {
    "name": "ipython",
    "version": 3
   },
   "file_extension": ".py",
   "mimetype": "text/x-python",
   "name": "python",
   "nbconvert_exporter": "python",
   "pygments_lexer": "ipython3",
   "version": "3.10.6"
  },
  "papermill": {
   "default_parameters": {},
   "duration": 30.777445,
   "end_time": "2022-04-21T06:37:56.230873",
   "environment_variables": {},
   "exception": null,
   "input_path": "__notebook__.ipynb",
   "output_path": "__notebook__.ipynb",
   "parameters": {},
   "start_time": "2022-04-21T06:37:25.453428",
   "version": "2.3.4"
  }
 },
 "nbformat": 4,
 "nbformat_minor": 5
}
